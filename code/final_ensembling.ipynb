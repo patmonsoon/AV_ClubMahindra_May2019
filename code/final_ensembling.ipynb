{
 "cells": [
  {
   "cell_type": "code",
   "execution_count": 1,
   "metadata": {},
   "outputs": [],
   "source": [
    "%load_ext autoreload\n",
    "%autoreload 2\n",
    "\n",
    "from IPython.core.interactiveshell import InteractiveShell\n",
    "InteractiveShell.ast_node_interactivity = \"all\"\n",
    "\n",
    "import pandas as pd\n",
    "import numpy as np\n",
    "pd.options.display.max_columns = 100\n",
    "pd.options.display.max_rows = 100\n",
    "\n",
    "import itertools"
   ]
  },
  {
   "cell_type": "code",
   "execution_count": 3,
   "metadata": {},
   "outputs": [],
   "source": [
    "df_test = None\n",
    "\n",
    "for i, f in enumerate([\n",
    "    # 91 dataset\n",
    "    'lgb-91-lve100-k5-test.csv',\n",
    "    'lgb-91-lve48-k5-test.csv',\n",
    "    'lgb-91-lve48-k10-test.csv',\n",
    "    'xgb-91-k5-test.csv',\n",
    "\n",
    "    # 480 dataset\n",
    "    'lgb-480-lve100-k5-test.csv',\n",
    "    'lgb-480-lve48-k5-test.csv',\n",
    "    'lgb-480-lve48-k10-test.csv',\n",
    "    \n",
    "    # 308 dataset\n",
    "    'lgb-308-lve100-k5-test.csv',\n",
    "    'lgb-308-lve48-k5-test.csv',\n",
    "    'cat-308-k5-test.csv',\n",
    "    'lgb-308-lve100-k10-test.csv',\n",
    "\n",
    "    #1020 dataset\n",
    "    'lgb-1020-k5-test.csv',\n",
    "    'cat-1020-k5-test.csv',\n",
    "    \n",
    "         ]):\n",
    "    if df_test is None:\n",
    "        df_test = pd.read_csv(f)\n",
    "        df_test.columns = ['reservation_id', 'pred_{}'.format(i)]\n",
    "\n",
    "    else:\n",
    "        df1 = pd.read_csv(f)\n",
    "        df1.columns = ['reservation_id', 'pred_{}'.format(i)]\n",
    "        df_test = df_test.merge(df1, on ='reservation_id', how='left')\n"
   ]
  },
  {
   "cell_type": "code",
   "execution_count": 4,
   "metadata": {},
   "outputs": [
    {
     "data": {
      "text/plain": [
       "(146765, 14)"
      ]
     },
     "execution_count": 4,
     "metadata": {},
     "output_type": "execute_result"
    },
    {
     "data": {
      "text/html": [
       "<div>\n",
       "<style scoped>\n",
       "    .dataframe tbody tr th:only-of-type {\n",
       "        vertical-align: middle;\n",
       "    }\n",
       "\n",
       "    .dataframe tbody tr th {\n",
       "        vertical-align: top;\n",
       "    }\n",
       "\n",
       "    .dataframe thead th {\n",
       "        text-align: right;\n",
       "    }\n",
       "</style>\n",
       "<table border=\"1\" class=\"dataframe\">\n",
       "  <thead>\n",
       "    <tr style=\"text-align: right;\">\n",
       "      <th></th>\n",
       "      <th>reservation_id</th>\n",
       "      <th>pred_0</th>\n",
       "      <th>pred_1</th>\n",
       "      <th>pred_2</th>\n",
       "      <th>pred_3</th>\n",
       "      <th>pred_4</th>\n",
       "      <th>pred_5</th>\n",
       "      <th>pred_6</th>\n",
       "      <th>pred_7</th>\n",
       "      <th>pred_8</th>\n",
       "      <th>pred_9</th>\n",
       "      <th>pred_10</th>\n",
       "      <th>pred_11</th>\n",
       "      <th>pred_12</th>\n",
       "    </tr>\n",
       "  </thead>\n",
       "  <tbody>\n",
       "    <tr>\n",
       "      <th>0</th>\n",
       "      <td>7dae1ce6bc8f69481328f2be5c4943077dad5598b5f66d...</td>\n",
       "      <td>8.480364</td>\n",
       "      <td>8.456067</td>\n",
       "      <td>8.457522</td>\n",
       "      <td>8.396389</td>\n",
       "      <td>8.496654</td>\n",
       "      <td>8.518637</td>\n",
       "      <td>8.525733</td>\n",
       "      <td>8.610805</td>\n",
       "      <td>8.610357</td>\n",
       "      <td>8.446411</td>\n",
       "      <td>8.614714</td>\n",
       "      <td>8.404779</td>\n",
       "      <td>8.351008</td>\n",
       "    </tr>\n",
       "    <tr>\n",
       "      <th>1</th>\n",
       "      <td>fe0d4e444e1818436c88f72f1cf800536c2f785e59baeb...</td>\n",
       "      <td>7.449246</td>\n",
       "      <td>7.429349</td>\n",
       "      <td>7.410117</td>\n",
       "      <td>7.438384</td>\n",
       "      <td>7.371304</td>\n",
       "      <td>7.362101</td>\n",
       "      <td>7.364291</td>\n",
       "      <td>7.414856</td>\n",
       "      <td>7.386503</td>\n",
       "      <td>7.373332</td>\n",
       "      <td>7.429333</td>\n",
       "      <td>7.423864</td>\n",
       "      <td>7.343686</td>\n",
       "    </tr>\n",
       "    <tr>\n",
       "      <th>2</th>\n",
       "      <td>540bd4285ad8168e8388f84ee74a82cd4f97dc0a404d3e...</td>\n",
       "      <td>7.528749</td>\n",
       "      <td>7.512661</td>\n",
       "      <td>7.506843</td>\n",
       "      <td>7.509965</td>\n",
       "      <td>7.525925</td>\n",
       "      <td>7.530095</td>\n",
       "      <td>7.538614</td>\n",
       "      <td>7.548483</td>\n",
       "      <td>7.550016</td>\n",
       "      <td>7.574092</td>\n",
       "      <td>7.548862</td>\n",
       "      <td>7.583537</td>\n",
       "      <td>7.604109</td>\n",
       "    </tr>\n",
       "    <tr>\n",
       "      <th>3</th>\n",
       "      <td>09593c907ae262e46f655b4db9e14f54a19eadcfdd2679...</td>\n",
       "      <td>7.949404</td>\n",
       "      <td>7.944353</td>\n",
       "      <td>7.945618</td>\n",
       "      <td>7.928332</td>\n",
       "      <td>7.913528</td>\n",
       "      <td>7.914500</td>\n",
       "      <td>7.925895</td>\n",
       "      <td>7.918618</td>\n",
       "      <td>7.917494</td>\n",
       "      <td>7.870877</td>\n",
       "      <td>7.928186</td>\n",
       "      <td>7.924144</td>\n",
       "      <td>7.874336</td>\n",
       "    </tr>\n",
       "    <tr>\n",
       "      <th>4</th>\n",
       "      <td>f4c50caac68051faf37551d70bb17eebef2a20e2244cb1...</td>\n",
       "      <td>7.852312</td>\n",
       "      <td>7.865017</td>\n",
       "      <td>7.859138</td>\n",
       "      <td>7.850175</td>\n",
       "      <td>7.854010</td>\n",
       "      <td>7.859494</td>\n",
       "      <td>7.867012</td>\n",
       "      <td>7.809019</td>\n",
       "      <td>7.802360</td>\n",
       "      <td>7.849575</td>\n",
       "      <td>7.804147</td>\n",
       "      <td>7.814720</td>\n",
       "      <td>7.840631</td>\n",
       "    </tr>\n",
       "  </tbody>\n",
       "</table>\n",
       "</div>"
      ],
      "text/plain": [
       "                                      reservation_id    pred_0    pred_1  \\\n",
       "0  7dae1ce6bc8f69481328f2be5c4943077dad5598b5f66d...  8.480364  8.456067   \n",
       "1  fe0d4e444e1818436c88f72f1cf800536c2f785e59baeb...  7.449246  7.429349   \n",
       "2  540bd4285ad8168e8388f84ee74a82cd4f97dc0a404d3e...  7.528749  7.512661   \n",
       "3  09593c907ae262e46f655b4db9e14f54a19eadcfdd2679...  7.949404  7.944353   \n",
       "4  f4c50caac68051faf37551d70bb17eebef2a20e2244cb1...  7.852312  7.865017   \n",
       "\n",
       "     pred_2    pred_3    pred_4    pred_5    pred_6    pred_7    pred_8  \\\n",
       "0  8.457522  8.396389  8.496654  8.518637  8.525733  8.610805  8.610357   \n",
       "1  7.410117  7.438384  7.371304  7.362101  7.364291  7.414856  7.386503   \n",
       "2  7.506843  7.509965  7.525925  7.530095  7.538614  7.548483  7.550016   \n",
       "3  7.945618  7.928332  7.913528  7.914500  7.925895  7.918618  7.917494   \n",
       "4  7.859138  7.850175  7.854010  7.859494  7.867012  7.809019  7.802360   \n",
       "\n",
       "     pred_9   pred_10   pred_11   pred_12  \n",
       "0  8.446411  8.614714  8.404779  8.351008  \n",
       "1  7.373332  7.429333  7.423864  7.343686  \n",
       "2  7.574092  7.548862  7.583537  7.604109  \n",
       "3  7.870877  7.928186  7.924144  7.874336  \n",
       "4  7.849575  7.804147  7.814720  7.840631  "
      ]
     },
     "execution_count": 4,
     "metadata": {},
     "output_type": "execute_result"
    }
   ],
   "source": [
    "df_test.shape\n",
    "df_test.head()"
   ]
  },
  {
   "cell_type": "code",
   "execution_count": 5,
   "metadata": {},
   "outputs": [],
   "source": [
    "df_train = None\n",
    "\n",
    "for i, f in enumerate([\n",
    "    'lgb-91-lve100-k5-train.csv',\n",
    "    'lgb-91-lve48-k5-train.csv',\n",
    "    'lgb-91-lve48-k10-train.csv',\n",
    "    'xgb-91-k5-train.csv',\n",
    "  \n",
    "    'lgb-480-lve100-k5-train.csv',\n",
    "    'lgb-480-lve48-k5-train.csv',\n",
    "    'lgb-480-lve48-k10-train.csv',\n",
    "    \n",
    "    'lgb-308-lve100-k5-train.csv',\n",
    "    'lgb-308-lve48-k5-train.csv',\n",
    "    'cat-308-k5-train.csv',\n",
    "    'lgb-308-lve100-k10-train.csv',\n",
    "\n",
    "    'lgb-1020-k5-train.csv',\n",
    "    'cat-1020-k5-train.csv',\n",
    "         \n",
    "         ]):\n",
    "    if df_train is None:\n",
    "        df_train = pd.read_csv(f)\n",
    "        df_train.columns = ['reservation_id', 'pred_{}'.format(i)]\n",
    "    else:\n",
    "        df1 = pd.read_csv(f)\n",
    "        df1.columns = ['reservation_id', 'pred_{}'.format(i)]\n",
    "        df_train = df_train.merge(df1, on ='reservation_id', how='left')\n"
   ]
  },
  {
   "cell_type": "code",
   "execution_count": 6,
   "metadata": {},
   "outputs": [
    {
     "data": {
      "text/plain": [
       "(341424, 14)"
      ]
     },
     "execution_count": 6,
     "metadata": {},
     "output_type": "execute_result"
    },
    {
     "data": {
      "text/html": [
       "<div>\n",
       "<style scoped>\n",
       "    .dataframe tbody tr th:only-of-type {\n",
       "        vertical-align: middle;\n",
       "    }\n",
       "\n",
       "    .dataframe tbody tr th {\n",
       "        vertical-align: top;\n",
       "    }\n",
       "\n",
       "    .dataframe thead th {\n",
       "        text-align: right;\n",
       "    }\n",
       "</style>\n",
       "<table border=\"1\" class=\"dataframe\">\n",
       "  <thead>\n",
       "    <tr style=\"text-align: right;\">\n",
       "      <th></th>\n",
       "      <th>reservation_id</th>\n",
       "      <th>pred_0</th>\n",
       "      <th>pred_1</th>\n",
       "      <th>pred_2</th>\n",
       "      <th>pred_3</th>\n",
       "      <th>pred_4</th>\n",
       "      <th>pred_5</th>\n",
       "      <th>pred_6</th>\n",
       "      <th>pred_7</th>\n",
       "      <th>pred_8</th>\n",
       "      <th>pred_9</th>\n",
       "      <th>pred_10</th>\n",
       "      <th>pred_11</th>\n",
       "      <th>pred_12</th>\n",
       "    </tr>\n",
       "  </thead>\n",
       "  <tbody>\n",
       "    <tr>\n",
       "      <th>0</th>\n",
       "      <td>07659f3758d8aee27f5a7e2887adeacb67021cb95ada1b...</td>\n",
       "      <td>7.784422</td>\n",
       "      <td>7.856127</td>\n",
       "      <td>7.791188</td>\n",
       "      <td>7.863114</td>\n",
       "      <td>8.092978</td>\n",
       "      <td>8.108400</td>\n",
       "      <td>8.085181</td>\n",
       "      <td>8.057157</td>\n",
       "      <td>8.078749</td>\n",
       "      <td>8.170900</td>\n",
       "      <td>8.050535</td>\n",
       "      <td>7.998109</td>\n",
       "      <td>8.157201</td>\n",
       "    </tr>\n",
       "    <tr>\n",
       "      <th>1</th>\n",
       "      <td>03930f033646d073462b35d411616323597715ac4fc398...</td>\n",
       "      <td>6.832303</td>\n",
       "      <td>6.838141</td>\n",
       "      <td>6.852473</td>\n",
       "      <td>6.812069</td>\n",
       "      <td>6.833647</td>\n",
       "      <td>6.828456</td>\n",
       "      <td>6.846222</td>\n",
       "      <td>6.852319</td>\n",
       "      <td>6.857867</td>\n",
       "      <td>6.907383</td>\n",
       "      <td>6.818682</td>\n",
       "      <td>6.737238</td>\n",
       "      <td>6.751716</td>\n",
       "    </tr>\n",
       "    <tr>\n",
       "      <th>2</th>\n",
       "      <td>d145a32920e6587ad95bfe299d80c0affa268220535aaf...</td>\n",
       "      <td>7.012539</td>\n",
       "      <td>7.040356</td>\n",
       "      <td>7.001037</td>\n",
       "      <td>6.984588</td>\n",
       "      <td>7.036916</td>\n",
       "      <td>7.036666</td>\n",
       "      <td>6.927139</td>\n",
       "      <td>7.001851</td>\n",
       "      <td>6.926909</td>\n",
       "      <td>6.950157</td>\n",
       "      <td>6.963564</td>\n",
       "      <td>7.048662</td>\n",
       "      <td>6.790682</td>\n",
       "    </tr>\n",
       "    <tr>\n",
       "      <th>3</th>\n",
       "      <td>cfd77f44811ed62f25a220b53324cdbafc662a4c9e5f04...</td>\n",
       "      <td>6.992757</td>\n",
       "      <td>6.946020</td>\n",
       "      <td>6.980054</td>\n",
       "      <td>6.888927</td>\n",
       "      <td>6.779105</td>\n",
       "      <td>6.856476</td>\n",
       "      <td>6.721769</td>\n",
       "      <td>6.874880</td>\n",
       "      <td>6.768674</td>\n",
       "      <td>6.876663</td>\n",
       "      <td>6.870498</td>\n",
       "      <td>6.725593</td>\n",
       "      <td>6.783682</td>\n",
       "    </tr>\n",
       "    <tr>\n",
       "      <th>4</th>\n",
       "      <td>937cff9e4dcfc2459620153dfc8b9962ac22bea67dfb29...</td>\n",
       "      <td>6.735118</td>\n",
       "      <td>6.761805</td>\n",
       "      <td>6.750217</td>\n",
       "      <td>6.707301</td>\n",
       "      <td>6.725441</td>\n",
       "      <td>6.698603</td>\n",
       "      <td>6.647191</td>\n",
       "      <td>6.806003</td>\n",
       "      <td>6.793889</td>\n",
       "      <td>6.797939</td>\n",
       "      <td>6.695234</td>\n",
       "      <td>6.533002</td>\n",
       "      <td>6.720375</td>\n",
       "    </tr>\n",
       "  </tbody>\n",
       "</table>\n",
       "</div>"
      ],
      "text/plain": [
       "                                      reservation_id    pred_0    pred_1  \\\n",
       "0  07659f3758d8aee27f5a7e2887adeacb67021cb95ada1b...  7.784422  7.856127   \n",
       "1  03930f033646d073462b35d411616323597715ac4fc398...  6.832303  6.838141   \n",
       "2  d145a32920e6587ad95bfe299d80c0affa268220535aaf...  7.012539  7.040356   \n",
       "3  cfd77f44811ed62f25a220b53324cdbafc662a4c9e5f04...  6.992757  6.946020   \n",
       "4  937cff9e4dcfc2459620153dfc8b9962ac22bea67dfb29...  6.735118  6.761805   \n",
       "\n",
       "     pred_2    pred_3    pred_4    pred_5    pred_6    pred_7    pred_8  \\\n",
       "0  7.791188  7.863114  8.092978  8.108400  8.085181  8.057157  8.078749   \n",
       "1  6.852473  6.812069  6.833647  6.828456  6.846222  6.852319  6.857867   \n",
       "2  7.001037  6.984588  7.036916  7.036666  6.927139  7.001851  6.926909   \n",
       "3  6.980054  6.888927  6.779105  6.856476  6.721769  6.874880  6.768674   \n",
       "4  6.750217  6.707301  6.725441  6.698603  6.647191  6.806003  6.793889   \n",
       "\n",
       "     pred_9   pred_10   pred_11   pred_12  \n",
       "0  8.170900  8.050535  7.998109  8.157201  \n",
       "1  6.907383  6.818682  6.737238  6.751716  \n",
       "2  6.950157  6.963564  7.048662  6.790682  \n",
       "3  6.876663  6.870498  6.725593  6.783682  \n",
       "4  6.797939  6.695234  6.533002  6.720375  "
      ]
     },
     "execution_count": 6,
     "metadata": {},
     "output_type": "execute_result"
    }
   ],
   "source": [
    "df_train.shape\n",
    "df_train.head()"
   ]
  },
  {
   "cell_type": "code",
   "execution_count": 7,
   "metadata": {},
   "outputs": [
    {
     "data": {
      "text/plain": [
       "(341424, 14)"
      ]
     },
     "execution_count": 7,
     "metadata": {},
     "output_type": "execute_result"
    }
   ],
   "source": [
    "df_train.shape"
   ]
  },
  {
   "cell_type": "code",
   "execution_count": 8,
   "metadata": {},
   "outputs": [
    {
     "data": {
      "text/plain": [
       "(341424, 24)"
      ]
     },
     "execution_count": 8,
     "metadata": {},
     "output_type": "execute_result"
    }
   ],
   "source": [
    "# train.columns\n",
    "train = pd.read_csv('train.csv')\n",
    "train.shape"
   ]
  },
  {
   "cell_type": "code",
   "execution_count": 9,
   "metadata": {},
   "outputs": [],
   "source": [
    "from sklearn.linear_model import LinearRegression"
   ]
  },
  {
   "cell_type": "code",
   "execution_count": 10,
   "metadata": {},
   "outputs": [
    {
     "data": {
      "text/plain": [
       "((341424, 13), (341424,))"
      ]
     },
     "execution_count": 10,
     "metadata": {},
     "output_type": "execute_result"
    }
   ],
   "source": [
    "target_col = 'amount_spent_per_room_night_scaled'\n",
    "x_train, y_train = df_train[df_train.columns[1:]].values, train[target_col].values\n",
    "x_train.shape, y_train.shape"
   ]
  },
  {
   "cell_type": "code",
   "execution_count": 11,
   "metadata": {},
   "outputs": [
    {
     "data": {
      "text/plain": [
       "Index([u'pred_0', u'pred_1', u'pred_2', u'pred_3', u'pred_4', u'pred_5',\n",
       "       u'pred_6', u'pred_7', u'pred_8', u'pred_9', u'pred_10', u'pred_11',\n",
       "       u'pred_12'],\n",
       "      dtype='object')"
      ]
     },
     "execution_count": 11,
     "metadata": {},
     "output_type": "execute_result"
    }
   ],
   "source": [
    "df_train.columns[1:]"
   ]
  },
  {
   "cell_type": "code",
   "execution_count": 12,
   "metadata": {},
   "outputs": [],
   "source": [
    "# df_train[df_train.columns[1:]].head()"
   ]
  },
  {
   "cell_type": "code",
   "execution_count": 13,
   "metadata": {},
   "outputs": [],
   "source": [
    "from ml_modules.custom_estimator import Estimator\n",
    "from ml_modules.custom_fold_generator import FoldScheme\n",
    "\n",
    "from sklearn.metrics import mean_squared_error\n",
    "from math import sqrt\n",
    "\n",
    "def rmse(y_true, y_pred):\n",
    "    return sqrt(mean_squared_error(y_true, y_pred))"
   ]
  },
  {
   "cell_type": "code",
   "execution_count": 14,
   "metadata": {},
   "outputs": [],
   "source": [
    "est = Estimator(model=LinearRegression(), random_state=50, validation_scheme=FoldScheme.KFold, \n",
    "                eval_metric='rmse', task_type='regression', scoring_metric=rmse, n_splits=10)\n"
   ]
  },
  {
   "cell_type": "code",
   "execution_count": 15,
   "metadata": {},
   "outputs": [
    {
     "data": {
      "text/plain": [
       "<ml_modules.custom_estimator.Estimator at 0x7f2488491210>"
      ]
     },
     "execution_count": 15,
     "metadata": {},
     "output_type": "execute_result"
    }
   ],
   "source": [
    "est.fit(x_train, y_train)"
   ]
  },
  {
   "cell_type": "code",
   "execution_count": 16,
   "metadata": {},
   "outputs": [
    {
     "name": "stderr",
     "output_type": "stream",
     "text": [
      "ml_modules/custom_estimator.py:157: FutureWarning: arrays to stack must be passed as a \"sequence\" type such as list or tuple. Support for non-sequence iterables such as generators is deprecated as of NumPy 1.16 and will raise an error in the future.\n",
      "  return np.mean(np.column_stack((est.predict(x) for est in self.fitted_models)), axis=1)\n"
     ]
    }
   ],
   "source": [
    "train_preds = est.transform(x_train)"
   ]
  },
  {
   "cell_type": "code",
   "execution_count": 17,
   "metadata": {},
   "outputs": [
    {
     "data": {
      "text/plain": [
       "0.9622930116785149"
      ]
     },
     "execution_count": 17,
     "metadata": {},
     "output_type": "execute_result"
    }
   ],
   "source": [
    "rmse(y_train, train_preds)"
   ]
  },
  {
   "cell_type": "code",
   "execution_count": null,
   "metadata": {},
   "outputs": [],
   "source": []
  },
  {
   "cell_type": "code",
   "execution_count": 18,
   "metadata": {},
   "outputs": [
    {
     "data": {
      "text/plain": [
       "(146765, 13)"
      ]
     },
     "execution_count": 18,
     "metadata": {},
     "output_type": "execute_result"
    }
   ],
   "source": [
    "df_test[df_test.columns[1:]].shape"
   ]
  },
  {
   "cell_type": "code",
   "execution_count": 19,
   "metadata": {},
   "outputs": [],
   "source": [
    "y_test = est.transform(df_test[df_test.columns[1:]].values)"
   ]
  },
  {
   "cell_type": "code",
   "execution_count": 20,
   "metadata": {},
   "outputs": [],
   "source": [
    "df_sub = pd.DataFrame(zip(df_test[u'reservation_id'], y_test), columns=['reservation_id', 'amount_spent_per_room_night_scaled'])\n",
    "df_sub.to_csv('finalsub-13models.csv', index = False)"
   ]
  },
  {
   "cell_type": "code",
   "execution_count": 21,
   "metadata": {},
   "outputs": [
    {
     "data": {
      "text/plain": [
       "(146765, 2)"
      ]
     },
     "execution_count": 21,
     "metadata": {},
     "output_type": "execute_result"
    }
   ],
   "source": [
    "df_sub.shape"
   ]
  },
  {
   "cell_type": "code",
   "execution_count": null,
   "metadata": {},
   "outputs": [],
   "source": []
  },
  {
   "cell_type": "code",
   "execution_count": null,
   "metadata": {},
   "outputs": [],
   "source": []
  },
  {
   "cell_type": "code",
   "execution_count": null,
   "metadata": {},
   "outputs": [],
   "source": []
  }
 ],
 "metadata": {
  "kernelspec": {
   "display_name": "Python 2",
   "language": "python",
   "name": "python2"
  },
  "language_info": {
   "codemirror_mode": {
    "name": "ipython",
    "version": 2
   },
   "file_extension": ".py",
   "mimetype": "text/x-python",
   "name": "python",
   "nbconvert_exporter": "python",
   "pygments_lexer": "ipython2",
   "version": "2.7.16"
  }
 },
 "nbformat": 4,
 "nbformat_minor": 2
}
